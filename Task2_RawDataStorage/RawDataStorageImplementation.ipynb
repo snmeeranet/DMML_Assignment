{
 "cells": [
  {
   "cell_type": "code",
   "execution_count": 1,
   "id": "6c3218fd",
   "metadata": {
    "execution": {
     "iopub.execute_input": "2025-08-24T10:25:46.727355Z",
     "iopub.status.busy": "2025-08-24T10:25:46.724805Z",
     "iopub.status.idle": "2025-08-24T10:25:46.788408Z",
     "shell.execute_reply": "2025-08-24T10:25:46.783804Z"
    }
   },
   "outputs": [
    {
     "name": "stdout",
     "output_type": "stream",
     "text": [
      "✅ Stored churn_modelling.csv into data_lake/raw\\huggingface\\churn_modelling\\2025-08-24\\churn_modelling.csv\n",
      "✅ Stored WA_Fn-UseC_-Telco-Customer-Churn.csv into data_lake/raw\\kaggle\\telco_customer_churn\\2025-08-24\\WA_Fn-UseC_-Telco-Customer-Churn.csv\n"
     ]
    }
   ],
   "source": [
    "import os\n",
    "import shutil\n",
    "from datetime import datetime\n",
    "\n",
    "# Paths\n",
    "RAW_DIR = \"../raw_data\"       # where your ingested CSVs are stored\n",
    "DATA_LAKE_DIR = \"data_lake/raw\"\n",
    "\n",
    "os.makedirs(RAW_DIR, exist_ok=True)\n",
    "os.makedirs(DATA_LAKE_DIR, exist_ok=True)\n",
    "\n",
    "def store_in_local_datalake(source: str, dataset_name: str, file_name: str):\n",
    "    \"\"\"Store ingested file into local data lake with partitioned structure.\"\"\"\n",
    "    # create timestamp partition\n",
    "    timestamp = datetime.now().strftime(\"%Y-%m-%d\")\n",
    "    \n",
    "    # target path\n",
    "    target_dir = os.path.join(DATA_LAKE_DIR, source, dataset_name, timestamp)\n",
    "    os.makedirs(target_dir, exist_ok=True)\n",
    "    \n",
    "    # move/copy file\n",
    "    src_file = os.path.join(RAW_DIR, file_name)\n",
    "    dst_file = os.path.join(target_dir, file_name)\n",
    "    shutil.copy(src_file, dst_file)   # use copy, not move\n",
    "    \n",
    "    print(f\"✅ Stored {file_name} into {dst_file}\")\n",
    "\n",
    "# Example usage:\n",
    "store_in_local_datalake(\"huggingface\", \"churn_modelling\", \"churn_modelling.csv\")\n",
    "store_in_local_datalake(\"kaggle\", \"telco_customer_churn\", \"WA_Fn-UseC_-Telco-Customer-Churn.csv\")\n"
   ]
  }
 ],
 "metadata": {
  "kernelspec": {
   "display_name": "Python 3",
   "language": "python",
   "name": "python3"
  },
  "language_info": {
   "codemirror_mode": {
    "name": "ipython",
    "version": 3
   },
   "file_extension": ".py",
   "mimetype": "text/x-python",
   "name": "python",
   "nbconvert_exporter": "python",
   "pygments_lexer": "ipython3",
   "version": "3.11.9"
  }
 },
 "nbformat": 4,
 "nbformat_minor": 5
}
