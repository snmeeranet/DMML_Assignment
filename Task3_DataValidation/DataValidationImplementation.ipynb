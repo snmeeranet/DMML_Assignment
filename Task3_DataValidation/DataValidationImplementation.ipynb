{
 "cells": [
  {
   "cell_type": "code",
   "execution_count": 1,
   "id": "81f3fd58",
   "metadata": {
    "execution": {
     "iopub.execute_input": "2025-08-24T12:20:39.076568Z",
     "iopub.status.busy": "2025-08-24T12:20:39.075445Z",
     "iopub.status.idle": "2025-08-24T12:20:39.670412Z",
     "shell.execute_reply": "2025-08-24T12:20:39.669403Z"
    }
   },
   "outputs": [
    {
     "name": "stdout",
     "output_type": "stream",
     "text": [
      "Validating churn_modelling.csv...\n",
      "Validating WA_Fn-UseC_-Telco-Customer-Churn.csv...\n",
      "✅ Data quality report saved at: reports\\data_quality_report_20250824_175039.csv\n"
     ]
    },
    {
     "name": "stderr",
     "output_type": "stream",
     "text": [
      "C:\\Users\\nmshaik\\AppData\\Local\\Temp\\ipykernel_50904\\2206026036.py:26: FutureWarning: A value is trying to be set on a copy of a DataFrame or Series through chained assignment using an inplace method.\n",
      "The behavior will change in pandas 3.0. This inplace method will never work because the intermediate object on which we are setting values always behaves as a copy.\n",
      "\n",
      "For example, when doing 'df[col].method(value, inplace=True)', try using 'df.method({col: value}, inplace=True)' or df[col] = df[col].method(value) instead, to perform the operation inplace on the original object.\n",
      "\n",
      "\n",
      "  df[col].fillna(\"UNKNOWN\", inplace=True)\n"
     ]
    }
   ],
   "source": [
    "import pandas as pd\n",
    "import os\n",
    "from datetime import datetime\n",
    "\n",
    "RAW_DIR = \"../raw_data\"\n",
    "REPORTS_DIR = \"reports\"\n",
    "\n",
    "# Ensure directory exists\n",
    "os.makedirs(REPORTS_DIR, exist_ok=True)\n",
    "\n",
    "def validate_dataset(file_path):\n",
    "    df = pd.read_csv(file_path)\n",
    "\n",
    "    issues = []\n",
    "    resolutions = []\n",
    "\n",
    "    # 1. Missing values\n",
    "    missing = df.isnull().sum()\n",
    "    for col, count in missing.items():\n",
    "        if count > 0:\n",
    "            issues.append(f\"{count} missing values in '{col}'\")\n",
    "            if df[col].dtype in [\"int64\", \"float64\"]:\n",
    "                df[col].fillna(df[col].mean(), inplace=True)\n",
    "                resolutions.append(f\"Filled missing '{col}' with column mean\")\n",
    "            else:\n",
    "                df[col].fillna(\"UNKNOWN\", inplace=True)\n",
    "                resolutions.append(f\"Filled missing '{col}' with 'UNKNOWN'\")\n",
    "\n",
    "    # 2. Duplicates\n",
    "    dup_count = df.duplicated().sum()\n",
    "    if dup_count > 0:\n",
    "        issues.append(f\"{dup_count} duplicate rows found\")\n",
    "        df.drop_duplicates(inplace=True)\n",
    "        resolutions.append(\"Removed duplicate rows\")\n",
    "\n",
    "    # 3. Numeric out-of-range (example check: Age)\n",
    "    if \"Age\" in df.columns:\n",
    "        invalid_age = df[(df[\"Age\"] < 0) | (df[\"Age\"] > 120)]\n",
    "        if not invalid_age.empty:\n",
    "            issues.append(f\"{len(invalid_age)} invalid Age values\")\n",
    "            df.loc[(df[\"Age\"] < 0) | (df[\"Age\"] > 120), \"Age\"] = None\n",
    "            resolutions.append(\"Replaced invalid Age values with NULL\")\n",
    "\n",
    "    # 4. Data type issues\n",
    "    for col in df.columns:\n",
    "        if df[col].dtype == \"object\":\n",
    "            try:\n",
    "                df[col].astype(float)\n",
    "                issues.append(f\"Column '{col}' may be numeric stored as string\")\n",
    "                resolutions.append(f\"Suggested: convert '{col}' to numeric\")\n",
    "            except:\n",
    "                pass\n",
    "\n",
    "    # Save cleaned dataset\n",
    "    cleaned_file = file_path.replace(\".csv\", \"_cleaned.csv\")\n",
    "    df.to_csv(cleaned_file, index=False)\n",
    "\n",
    "    # Return report row\n",
    "    return {\n",
    "        \"file\": os.path.basename(file_path),\n",
    "        \"rows\": len(df),\n",
    "        \"columns\": len(df.columns),\n",
    "        \"issues\": \"; \".join(issues) if issues else \"No issues\",\n",
    "        \"resolutions\": \"; \".join(resolutions) if resolutions else \"No resolutions\"\n",
    "    }\n",
    "\n",
    "def main():\n",
    "    all_reports = []\n",
    "    for file in os.listdir(RAW_DIR):\n",
    "        if file.endswith(\".csv\"):\n",
    "            path = os.path.join(RAW_DIR, file)\n",
    "            print(f\"Validating {file}...\")\n",
    "            report = validate_dataset(path)\n",
    "            all_reports.append(report)\n",
    "\n",
    "    # Save report\n",
    "    report_df = pd.DataFrame(all_reports)\n",
    "    timestamp = datetime.now().strftime(\"%Y%m%d_%H%M%S\")\n",
    "    report_file = os.path.join(REPORTS_DIR, f\"data_quality_report_{timestamp}.csv\")\n",
    "    report_df.to_csv(report_file, index=False)\n",
    "\n",
    "    print(f\"✅ Data quality report saved at: {report_file}\")\n",
    "\n",
    "if __name__ == \"__main__\":\n",
    "    main()\n"
   ]
  }
 ],
 "metadata": {
  "kernelspec": {
   "display_name": "Python 3",
   "language": "python",
   "name": "python3"
  },
  "language_info": {
   "codemirror_mode": {
    "name": "ipython",
    "version": 3
   },
   "file_extension": ".py",
   "mimetype": "text/x-python",
   "name": "python",
   "nbconvert_exporter": "python",
   "pygments_lexer": "ipython3",
   "version": "3.11.9"
  }
 },
 "nbformat": 4,
 "nbformat_minor": 5
}
