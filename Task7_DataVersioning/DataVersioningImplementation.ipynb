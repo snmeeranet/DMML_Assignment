{
 "cells": [
  {
   "cell_type": "code",
   "execution_count": 1,
   "id": "d6769f75",
   "metadata": {
    "execution": {
     "iopub.execute_input": "2025-08-24T12:00:51.827183Z",
     "iopub.status.busy": "2025-08-24T12:00:51.825653Z",
     "iopub.status.idle": "2025-08-24T12:02:09.916136Z",
     "shell.execute_reply": "2025-08-24T12:02:09.912603Z"
    }
   },
   "outputs": [
    {
     "name": "stdout",
     "output_type": "stream",
     "text": [
      "Requirement already satisfied: pandas in c:\\users\\nmshaik\\appdata\\local\\packages\\pythonsoftwarefoundation.python.3.11_qbz5n2kfra8p0\\localcache\\local-packages\\python311\\site-packages (2.3.2)\n",
      "Requirement already satisfied: requests in c:\\users\\nmshaik\\appdata\\local\\packages\\pythonsoftwarefoundation.python.3.11_qbz5n2kfra8p0\\localcache\\local-packages\\python311\\site-packages (2.32.5)\n",
      "Requirement already satisfied: gitpython in c:\\users\\nmshaik\\appdata\\local\\packages\\pythonsoftwarefoundation.python.3.11_qbz5n2kfra8p0\\localcache\\local-packages\\python311\\site-packages (3.1.45)\n",
      "Requirement already satisfied: numpy>=1.23.2 in c:\\users\\nmshaik\\appdata\\local\\packages\\pythonsoftwarefoundation.python.3.11_qbz5n2kfra8p0\\localcache\\local-packages\\python311\\site-packages (from pandas) (2.3.2)\n",
      "Requirement already satisfied: python-dateutil>=2.8.2 in c:\\users\\nmshaik\\appdata\\local\\packages\\pythonsoftwarefoundation.python.3.11_qbz5n2kfra8p0\\localcache\\local-packages\\python311\\site-packages (from pandas) (2.9.0.post0)\n",
      "Requirement already satisfied: pytz>=2020.1 in c:\\users\\nmshaik\\appdata\\local\\packages\\pythonsoftwarefoundation.python.3.11_qbz5n2kfra8p0\\localcache\\local-packages\\python311\\site-packages (from pandas) (2025.2)\n",
      "Requirement already satisfied: tzdata>=2022.7 in c:\\users\\nmshaik\\appdata\\local\\packages\\pythonsoftwarefoundation.python.3.11_qbz5n2kfra8p0\\localcache\\local-packages\\python311\\site-packages (from pandas) (2025.2)\n",
      "Requirement already satisfied: charset_normalizer<4,>=2 in c:\\users\\nmshaik\\appdata\\local\\packages\\pythonsoftwarefoundation.python.3.11_qbz5n2kfra8p0\\localcache\\local-packages\\python311\\site-packages (from requests) (3.4.3)\n",
      "Requirement already satisfied: idna<4,>=2.5 in c:\\users\\nmshaik\\appdata\\local\\packages\\pythonsoftwarefoundation.python.3.11_qbz5n2kfra8p0\\localcache\\local-packages\\python311\\site-packages (from requests) (3.10)\n",
      "Requirement already satisfied: urllib3<3,>=1.21.1 in c:\\users\\nmshaik\\appdata\\local\\packages\\pythonsoftwarefoundation.python.3.11_qbz5n2kfra8p0\\localcache\\local-packages\\python311\\site-packages (from requests) (2.5.0)\n",
      "Requirement already satisfied: certifi>=2017.4.17 in c:\\users\\nmshaik\\appdata\\local\\packages\\pythonsoftwarefoundation.python.3.11_qbz5n2kfra8p0\\localcache\\local-packages\\python311\\site-packages (from requests) (2025.8.3)\n",
      "Requirement already satisfied: gitdb<5,>=4.0.1 in c:\\users\\nmshaik\\appdata\\local\\packages\\pythonsoftwarefoundation.python.3.11_qbz5n2kfra8p0\\localcache\\local-packages\\python311\\site-packages (from gitpython) (4.0.12)\n",
      "Requirement already satisfied: smmap<6,>=3.0.1 in c:\\users\\nmshaik\\appdata\\local\\packages\\pythonsoftwarefoundation.python.3.11_qbz5n2kfra8p0\\localcache\\local-packages\\python311\\site-packages (from gitdb<5,>=4.0.1->gitpython) (5.0.2)\n",
      "Requirement already satisfied: six>=1.5 in c:\\users\\nmshaik\\appdata\\local\\packages\\pythonsoftwarefoundation.python.3.11_qbz5n2kfra8p0\\localcache\\local-packages\\python311\\site-packages (from python-dateutil>=2.8.2->pandas) (1.17.0)\n"
     ]
    },
    {
     "name": "stdout",
     "output_type": "stream",
     "text": [
      "M\tTask1_DataIngestion/DataIngestionImplementation.ipynb\n",
      "M\tTask1_DataIngestion/logs/ingestion.log\n",
      "D\tTask1_DataIngestion/raw_data/api_data_20250824_171921.csv\n",
      "D\tTask1_DataIngestion/raw_data/churn_modelling/churn_modelling_20250824_171918.csv\n",
      "D\tTask1_DataIngestion/raw_data/telco_churn/telco_churn_20250824_171919.csv\n",
      "M\tTask2_RawDataStorage/RawDataStorageImplementation.ipynb\n",
      "M\tTask3_DataValidation/DataValidationImplementation.ipynb\n",
      "D\tTask3_DataValidation/reports/data_quality_report_20250824_172015.csv\n",
      "M\tTask4_DataPreparation/DataPreparation.ipynb\n",
      "D\tTask4_DataPreparation/processed_data/visualizations/csv_20250824_172202_boxplot.png\n",
      "D\tTask4_DataPreparation/processed_data/visualizations/csv_20250824_172202_hist.png\n",
      "M\tTask5_DataTransformation_Storage/DataTransformationStorageImplementation.ipynb\n",
      "M\tTask6_FeatureStore/FeatureStoreImplementation.ipynb\n",
      "M\tTask6_FeatureStore/feature_store.db\n",
      "M\tTask7_DataVersioning/DataVersioningImplementation.ipynb\n",
      "M\tTask8_ModelBuilding/ModelBuildingImplementation.ipynb\n",
      "M\tTask8_ModelBuilding/RandomForest.pkl\n"
     ]
    },
    {
     "name": "stdout",
     "output_type": "stream",
     "text": [
      "[main 47cc44f] Check-IN Python Code\n",
      " 17 files changed, 295 insertions(+), 137 deletions(-)\n",
      " rename Task1_DataIngestion/raw_data/{api_data_20250824_171921.csv => api_data_20250824_172834.csv} (100%)\n",
      " rename Task1_DataIngestion/raw_data/churn_modelling/{churn_modelling_20250824_171918.csv => churn_modelling_20250824_172832.csv} (100%)\n",
      " rename Task1_DataIngestion/raw_data/telco_churn/{telco_churn_20250824_171919.csv => telco_churn_20250824_172833.csv} (100%)\n",
      " rename Task3_DataValidation/reports/{data_quality_report_20250824_172015.csv => data_quality_report_20250824_172848.csv} (100%)\n",
      " rename Task4_DataPreparation/processed_data/visualizations/{csv_20250824_172202_boxplot.png => csv_20250824_172901_boxplot.png} (100%)\n",
      " rename Task4_DataPreparation/processed_data/visualizations/{csv_20250824_172202_hist.png => csv_20250824_172901_hist.png} (100%)\n"
     ]
    },
    {
     "name": "stdout",
     "output_type": "stream",
     "text": [
      "branch 'main' set up to track 'origin/main'.\n",
      "✅ Code pushed to GitHub branch 'main' successfully!\n"
     ]
    }
   ],
   "source": [
    "!pip install pandas requests gitpython\n",
    "import os\n",
    "import subprocess\n",
    "\n",
    "\n",
    "# ---------------- CONFIG ----------------\n",
    "LOCAL_FOLDER = \"/BITS_SEM2/DMML_Assignment/\"  \n",
    "GITHUB_REPO_URL = \"git@github.com:snmeeranet/DMML_Assignment.git\"  # your GitHub repo URL\n",
    "COMMIT_MESSAGE = \"Check-IN Python Code\"\n",
    "\n",
    "REPO_DIR = \".\"  # current project directory for Git versioning\n",
    "BRANCH_NAME = \"data-versioning\"\n",
    "\n",
    "\n",
    "def push_to_github(local_folder: str, github_url: str, commit_message: str = \"Check-IN Python Code\", branch_name: str = \"main\"):\n",
    "    \"\"\"\n",
    "    Initialize Git repo (if needed), commit changes, and push to GitHub.\n",
    "\n",
    "    Args:\n",
    "        local_folder (str): Local project folder path.\n",
    "        github_url (str): GitHub repository URL (HTTPS recommended).\n",
    "        commit_message (str): Commit message.\n",
    "        branch_name (str): Branch to push.\n",
    "    \"\"\"\n",
    "\n",
    "    def run_command(command, cwd=None, ignore_error=False):\n",
    "        \"\"\"Run a shell command and print output.\"\"\"\n",
    "        result = subprocess.run(command, shell=True, text=True, cwd=cwd,\n",
    "                                stdout=subprocess.PIPE, stderr=subprocess.PIPE)\n",
    "        if result.returncode != 0 and not ignore_error:\n",
    "            print(f\"❌ Error running: {command}\")\n",
    "            print(result.stderr.strip())\n",
    "        else:\n",
    "            if result.stdout.strip():\n",
    "                print(result.stdout.strip())\n",
    "        return result.returncode\n",
    "\n",
    "    # Step 0: Check folder exists\n",
    "    if not os.path.exists(local_folder):\n",
    "        print(f\"❌ Folder not found: {local_folder}\")\n",
    "        return\n",
    "\n",
    "    # Step 1: Initialize git repo if not already\n",
    "    if not os.path.exists(os.path.join(local_folder, \".git\")):\n",
    "        print(\"Initializing new Git repository...\")\n",
    "        run_command(\"git init\", cwd=local_folder)\n",
    "\n",
    "    # Step 2: Add/Replace remote\n",
    "    run_command(\"git remote remove origin\", cwd=local_folder, ignore_error=True)\n",
    "    run_command(f\"git remote add origin {github_url}\", cwd=local_folder)\n",
    "\n",
    "    # Step 3: Switch/create branch\n",
    "    run_command(f\"git checkout -B {branch_name}\", cwd=local_folder)\n",
    "\n",
    "    # Step 4: Add all files\n",
    "    run_command(\"git add .\", cwd=local_folder)\n",
    "\n",
    "    # Step 5: Commit changes\n",
    "    run_command(f'git commit -m \"{commit_message}\"', cwd=local_folder, ignore_error=True)\n",
    "\n",
    "    # Step 6: Push to GitHub\n",
    "    ret = run_command(f\"git push -u origin {branch_name}\", cwd=local_folder)\n",
    "    if ret != 0:\n",
    "        print(\"❌ Push failed! Likely causes:\")\n",
    "        print(\"   - You do not have write access to this repository.\")\n",
    "        print(\"   - Incorrect credentials or authentication method.\")\n",
    "        print(\"   - Repository URL is wrong or does not exist.\")\n",
    "    else:\n",
    "        print(f\"✅ Code pushed to GitHub branch '{branch_name}' successfully!\")\n",
    "\n",
    "# ---------------- USAGE ----------------\n",
    "LOCAL_FOLDER = r\"D:\\BITS_SEM2\\DMML_Assignment\"  # update path\n",
    "GITHUB_URL = \"https://github.com/snmeeranet/DMML_Assignment.git\"  # original repo\n",
    "push_to_github(LOCAL_FOLDER, GITHUB_URL)\n"
   ]
  }
 ],
 "metadata": {
  "kernelspec": {
   "display_name": "Python 3",
   "language": "python",
   "name": "python3"
  },
  "language_info": {
   "codemirror_mode": {
    "name": "ipython",
    "version": 3
   },
   "file_extension": ".py",
   "mimetype": "text/x-python",
   "name": "python",
   "nbconvert_exporter": "python",
   "pygments_lexer": "ipython3",
   "version": "3.11.9"
  }
 },
 "nbformat": 4,
 "nbformat_minor": 5
}
