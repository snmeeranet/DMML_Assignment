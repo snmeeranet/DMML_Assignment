{
 "cells": [
  {
   "cell_type": "code",
   "execution_count": null,
   "id": "d6769f75",
   "metadata": {
    "execution": {
     "iopub.execute_input": "2025-08-24T10:27:48.359068Z",
     "iopub.status.busy": "2025-08-24T10:27:48.358074Z",
     "iopub.status.idle": "2025-08-24T10:27:56.516717Z",
     "shell.execute_reply": "2025-08-24T10:27:56.507138Z"
    }
   },
   "outputs": [
    {
     "name": "stdout",
     "output_type": "stream",
     "text": [
      "On branch main\n",
      "nothing to commit, working tree clean\n",
      "branch 'main' set up to track 'origin/main'.\n",
      "✅ Code pushed to GitHub branch 'main' successfully!\n"
     ]
    }
   ],
   "source": [
    "!pip install pandas requests gitpython\n",
    "import os\n",
    "import subprocess\n",
    "\n",
    "\n",
    "# ---------------- CONFIG ----------------\n",
    "LOCAL_FOLDER = \"/BITS_SEM2/DMML_Assignment/\"  \n",
    "GITHUB_REPO_URL = \"git@github.com:snmeeranet/DMML_Assignment.git\"  # your GitHub repo URL\n",
    "COMMIT_MESSAGE = \"Check-IN Python Code\"\n",
    "\n",
    "REPO_DIR = \".\"  # current project directory for Git versioning\n",
    "BRANCH_NAME = \"data-versioning\"\n",
    "\n",
    "\n",
    "def push_to_github(local_folder: str, github_url: str, commit_message: str = \"Check-IN Python Code\", branch_name: str = \"main\"):\n",
    "    \"\"\"\n",
    "    Initialize Git repo (if needed), commit changes, and push to GitHub.\n",
    "\n",
    "    Args:\n",
    "        local_folder (str): Local project folder path.\n",
    "        github_url (str): GitHub repository URL (HTTPS recommended).\n",
    "        commit_message (str): Commit message.\n",
    "        branch_name (str): Branch to push.\n",
    "    \"\"\"\n",
    "\n",
    "    def run_command(command, cwd=None, ignore_error=False):\n",
    "        \"\"\"Run a shell command and print output.\"\"\"\n",
    "        result = subprocess.run(command, shell=True, text=True, cwd=cwd,\n",
    "                                stdout=subprocess.PIPE, stderr=subprocess.PIPE)\n",
    "        if result.returncode != 0 and not ignore_error:\n",
    "            print(f\"❌ Error running: {command}\")\n",
    "            print(result.stderr.strip())\n",
    "        else:\n",
    "            if result.stdout.strip():\n",
    "                print(result.stdout.strip())\n",
    "        return result.returncode\n",
    "\n",
    "    # Step 0: Check folder exists\n",
    "    if not os.path.exists(local_folder):\n",
    "        print(f\"❌ Folder not found: {local_folder}\")\n",
    "        return\n",
    "\n",
    "    # Step 1: Initialize git repo if not already\n",
    "    if not os.path.exists(os.path.join(local_folder, \".git\")):\n",
    "        print(\"Initializing new Git repository...\")\n",
    "        run_command(\"git init\", cwd=local_folder)\n",
    "\n",
    "    # Step 2: Add/Replace remote\n",
    "    run_command(\"git remote remove origin\", cwd=local_folder, ignore_error=True)\n",
    "    run_command(f\"git remote add origin {github_url}\", cwd=local_folder)\n",
    "\n",
    "    # Step 3: Switch/create branch\n",
    "    run_command(f\"git checkout -B {branch_name}\", cwd=local_folder)\n",
    "\n",
    "    # Step 4: Add all files\n",
    "    run_command(\"git add .\", cwd=local_folder)\n",
    "\n",
    "    # Step 5: Commit changes\n",
    "    run_command(f'git commit -m \"{commit_message}\"', cwd=local_folder, ignore_error=True)\n",
    "\n",
    "    # Step 6: Push to GitHub\n",
    "    ret = run_command(f\"git push -u origin {branch_name}\", cwd=local_folder)\n",
    "    if ret != 0:\n",
    "        print(\"❌ Push failed! Likely causes:\")\n",
    "        print(\"   - You do not have write access to this repository.\")\n",
    "        print(\"   - Incorrect credentials or authentication method.\")\n",
    "        print(\"   - Repository URL is wrong or does not exist.\")\n",
    "    else:\n",
    "        print(f\"✅ Code pushed to GitHub branch '{branch_name}' successfully!\")\n",
    "\n",
    "# ---------------- USAGE ----------------\n",
    "LOCAL_FOLDER = r\"D:\\BITS_SEM2\\DMML_Assignment\"  # update path\n",
    "GITHUB_URL = \"https://github.com/snmeeranet/DMML_Assignment.git\"  # original repo\n",
    "push_to_github(LOCAL_FOLDER, GITHUB_URL)\n"
   ]
  }
 ],
 "metadata": {
  "kernelspec": {
   "display_name": "Python 3",
   "language": "python",
   "name": "python3"
  },
  "language_info": {
   "codemirror_mode": {
    "name": "ipython",
    "version": 3
   },
   "file_extension": ".py",
   "mimetype": "text/x-python",
   "name": "python",
   "nbconvert_exporter": "python",
   "pygments_lexer": "ipython3",
   "version": "3.11.9"
  }
 },
 "nbformat": 4,
 "nbformat_minor": 5
}
