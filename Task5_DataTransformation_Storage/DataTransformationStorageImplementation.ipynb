{
 "cells": [
  {
   "cell_type": "code",
   "execution_count": 1,
   "id": "cd5bb035",
   "metadata": {
    "execution": {
     "iopub.execute_input": "2025-08-24T12:21:39.806812Z",
     "iopub.status.busy": "2025-08-24T12:21:39.805917Z",
     "iopub.status.idle": "2025-08-24T12:21:41.105260Z",
     "shell.execute_reply": "2025-08-24T12:21:41.104209Z"
    }
   },
   "outputs": [],
   "source": [
    "import pandas as pd\n",
    "import numpy as np\n",
    "from sklearn.preprocessing import StandardScaler, MinMaxScaler\n",
    "import sqlite3\n",
    "import matplotlib.pyplot as plt\n",
    "\n",
    "churn_df = pd.read_csv(\"../Task4_DataPreparation/processed_data/clean_hf.csv\")\n",
    "telco_df = pd.read_csv(\"../Task4_DataPreparation/processed_data/clean_kaggle.csv\")"
   ]
  },
  {
   "cell_type": "code",
   "execution_count": 2,
   "id": "877dafe9",
   "metadata": {
    "execution": {
     "iopub.execute_input": "2025-08-24T12:21:41.109267Z",
     "iopub.status.busy": "2025-08-24T12:21:41.109267Z",
     "iopub.status.idle": "2025-08-24T12:21:41.115133Z",
     "shell.execute_reply": "2025-08-24T12:21:41.114127Z"
    }
   },
   "outputs": [
    {
     "name": "stdout",
     "output_type": "stream",
     "text": [
      "Data loaded successfully!\n",
      "Churn Modelling shape: (1409, 52)\n",
      "Telco Churn shape: (7043, 21)\n",
      "Churn Modelling columns:\n",
      "['Age', 'Avg Monthly GB Download', 'Avg Monthly Long Distance Charges', 'Churn Category', 'Churn Reason', 'Churn Score', 'City', 'CLTV', 'Contract', 'Country', 'Customer ID', 'Customer Status', 'Dependents', 'Device Protection Plan', 'Gender', 'Internet Service', 'Internet Type', 'Lat Long', 'Latitude', 'Longitude', 'Married', 'Monthly Charge', 'Multiple Lines', 'Number of Dependents', 'Number of Referrals', 'Offer', 'Online Backup', 'Online Security', 'Paperless Billing', 'Partner', 'Payment Method', 'Phone Service', 'Population', 'Premium Tech Support', 'Quarter', 'Referred a Friend', 'Satisfaction Score', 'Senior Citizen', 'State', 'Streaming Movies', 'Streaming Music', 'Streaming TV', 'Tenure in Months', 'Total Charges', 'Total Extra Data Charges', 'Total Long Distance Charges', 'Total Refunds', 'Total Revenue', 'Under 30', 'Unlimited Data', 'Zip Code', 'Churn']\n",
      "Telco Churn columns:\n",
      "['customerID', 'gender', 'SeniorCitizen', 'Partner', 'Dependents', 'tenure', 'PhoneService', 'MultipleLines', 'InternetService', 'OnlineSecurity', 'OnlineBackup', 'DeviceProtection', 'TechSupport', 'StreamingTV', 'StreamingMovies', 'Contract', 'PaperlessBilling', 'PaymentMethod', 'MonthlyCharges', 'TotalCharges', 'Churn']\n"
     ]
    }
   ],
   "source": [
    "print(\"Data loaded successfully!\")\n",
    "print(\"Churn Modelling shape:\", churn_df.shape)\n",
    "print(\"Telco Churn shape:\", telco_df.shape)\n",
    "\n",
    "print(\"Churn Modelling columns:\")\n",
    "print(churn_df.columns.tolist())\n",
    "print(\"Telco Churn columns:\")\n",
    "print(telco_df.columns.tolist())"
   ]
  },
  {
   "cell_type": "code",
   "execution_count": 3,
   "id": "01fd2014",
   "metadata": {
    "execution": {
     "iopub.execute_input": "2025-08-24T12:21:41.119137Z",
     "iopub.status.busy": "2025-08-24T12:21:41.119137Z",
     "iopub.status.idle": "2025-08-24T12:21:41.127155Z",
     "shell.execute_reply": "2025-08-24T12:21:41.126135Z"
    }
   },
   "outputs": [
    {
     "name": "stdout",
     "output_type": "stream",
     "text": [
      "Feature engineering applied successfully!\n",
      "Churn Modelling new cols: []\n",
      "Telco Churn new cols: []\n"
     ]
    }
   ],
   "source": [
    "\n",
    "# ----- Feature Engineering for Churn Modelling -----\n",
    "if {\"MonthlyCharges\", \"tenure\"}.issubset(churn_df.columns):\n",
    "    churn_df[\"TotalSpend\"] = churn_df[\"MonthlyCharges\"] * churn_df[\"tenure\"]\n",
    "\n",
    "    churn_df[\"AvgMonthlySpend\"] = np.where(\n",
    "        churn_df[\"tenure\"] > 0,\n",
    "        churn_df[\"TotalSpend\"] / churn_df[\"tenure\"],\n",
    "        churn_df[\"MonthlyCharges\"]\n",
    "    )\n",
    "\n",
    "    churn_df[\"TenureGroup\"] = pd.cut(\n",
    "        churn_df[\"tenure\"],\n",
    "        bins=[0, 12, 24, 48, 72],\n",
    "        labels=[\"0-1yr\", \"1-2yr\", \"2-4yr\", \"4-6yr\"]\n",
    "    )\n",
    "\n",
    "    # Example: Activity frequency (if NumOfProducts exists)\n",
    "    if \"NumOfProducts\" in churn_df.columns:\n",
    "        churn_df[\"ActivityFrequency\"] = churn_df[\"NumOfProducts\"] / (churn_df[\"tenure\"] + 1)\n",
    "\n",
    "# ----- Feature Engineering for Telco Churn -----\n",
    "if {\"Monthly Charge\", \"Tenure in Months\"}.issubset(telco_df.columns):\n",
    "    telco_df[\"TotalSpend\"] = telco_df[\"Monthly Charge\"] * telco_df[\"Tenure in Months\"]\n",
    "\n",
    "    telco_df[\"AvgMonthlySpend\"] = np.where(\n",
    "        telco_df[\"Tenure in Months\"] > 0,\n",
    "        telco_df[\"TotalSpend\"] / telco_df[\"Tenure in Months\"],\n",
    "        telco_df[\"Monthly Charge\"]\n",
    "    )\n",
    "\n",
    "    telco_df[\"TenureGroup\"] = pd.cut(\n",
    "        telco_df[\"Tenure in Months\"],\n",
    "        bins=[0, 12, 24, 48, 72],\n",
    "        labels=[\"0-1yr\", \"1-2yr\", \"2-4yr\", \"4-6yr\"]\n",
    "    )\n",
    "\n",
    "    # Example: Activity frequency (if Number of Referrals exists)\n",
    "    if \"Number of Referrals\" in telco_df.columns:\n",
    "        telco_df[\"ActivityFrequency\"] = telco_df[\"Number of Referrals\"] / (telco_df[\"Tenure in Months\"] + 1)\n",
    "\n",
    "print(\"Feature engineering applied successfully!\")\n",
    "print(\"Churn Modelling new cols:\", [col for col in churn_df.columns if col in [\"TotalSpend\",\"AvgMonthlySpend\",\"TenureGroup\",\"ActivityFrequency\"]])\n",
    "print(\"Telco Churn new cols:\", [col for col in telco_df.columns if col in [\"TotalSpend\",\"AvgMonthlySpend\",\"TenureGroup\",\"ActivityFrequency\"]])\n"
   ]
  },
  {
   "cell_type": "code",
   "execution_count": 4,
   "id": "7418a982",
   "metadata": {
    "execution": {
     "iopub.execute_input": "2025-08-24T12:21:41.131146Z",
     "iopub.status.busy": "2025-08-24T12:21:41.131146Z",
     "iopub.status.idle": "2025-08-24T12:21:41.147000Z",
     "shell.execute_reply": "2025-08-24T12:21:41.145988Z"
    }
   },
   "outputs": [
    {
     "name": "stdout",
     "output_type": "stream",
     "text": [
      "Feature scaling done!\n"
     ]
    }
   ],
   "source": [
    "scaler = StandardScaler()\n",
    "\n",
    "numeric_cols_telco = telco_df.select_dtypes(include=[np.number]).columns\n",
    "telco_df[numeric_cols_telco] = scaler.fit_transform(telco_df[numeric_cols_telco])\n",
    "\n",
    "numeric_cols_churn = churn_df.select_dtypes(include=[np.number]).columns\n",
    "churn_df[numeric_cols_churn] = scaler.fit_transform(churn_df[numeric_cols_churn])\n",
    "\n",
    "print(\"Feature scaling done!\")"
   ]
  },
  {
   "cell_type": "code",
   "execution_count": 5,
   "id": "e9fe9731",
   "metadata": {
    "execution": {
     "iopub.execute_input": "2025-08-24T12:21:41.150999Z",
     "iopub.status.busy": "2025-08-24T12:21:41.150999Z",
     "iopub.status.idle": "2025-08-24T12:21:41.227841Z",
     "shell.execute_reply": "2025-08-24T12:21:41.226829Z"
    }
   },
   "outputs": [
    {
     "name": "stdout",
     "output_type": "stream",
     "text": [
      " Data stored in SQLite DB!\n"
     ]
    }
   ],
   "source": [
    "conn = sqlite3.connect(\"customer_churn.db\")\n",
    "\n",
    "# Save transformed datasets into SQL tables\n",
    "churn_df.to_sql(\"ChurnModelling\", conn, if_exists=\"replace\", index=False)\n",
    "telco_df.to_sql(\"TelcoChurn\", conn, if_exists=\"replace\", index=False)\n",
    "\n",
    "print(\" Data stored in SQLite DB!\")"
   ]
  },
  {
   "cell_type": "code",
   "execution_count": 6,
   "id": "8976c9e0",
   "metadata": {
    "execution": {
     "iopub.execute_input": "2025-08-24T12:21:41.231842Z",
     "iopub.status.busy": "2025-08-24T12:21:41.231842Z",
     "iopub.status.idle": "2025-08-24T12:21:41.237369Z",
     "shell.execute_reply": "2025-08-24T12:21:41.236327Z"
    }
   },
   "outputs": [],
   "source": [
    "schema_churn = \"\"\"\n",
    "CREATE TABLE ChurnModelling (\n",
    "    RowNumber INTEGER,\n",
    "    CustomerId INTEGER,\n",
    "    Surname TEXT,\n",
    "    CreditScore REAL,\n",
    "    Geography TEXT,\n",
    "    Gender TEXT,\n",
    "    Age REAL,\n",
    "    Tenure REAL,\n",
    "    Balance REAL,\n",
    "    NumOfProducts REAL,\n",
    "    HasCrCard REAL,\n",
    "    IsActiveMember REAL,\n",
    "    EstimatedSalary REAL,\n",
    "    Exited REAL\n",
    ");\n",
    "\"\"\"\n",
    "\n",
    "\n",
    "schema_telco = \"\"\"\n",
    "CREATE TABLE TelcoChurn (\n",
    "    customerID TEXT PRIMARY KEY,\n",
    "    gender TEXT,\n",
    "    SeniorCitizen INTEGER,\n",
    "    Partner TEXT,\n",
    "    Dependents TEXT,\n",
    "    tenure REAL,\n",
    "    PhoneService TEXT,\n",
    "    MultipleLines TEXT,\n",
    "    InternetService TEXT,\n",
    "    OnlineSecurity TEXT,\n",
    "    OnlineBackup TEXT,\n",
    "    DeviceProtection TEXT,\n",
    "    TechSupport TEXT,\n",
    "    StreamingTV TEXT,\n",
    "    StreamingMovies TEXT,\n",
    "    Contract TEXT,\n",
    "    PaperlessBilling TEXT,\n",
    "    PaymentMethod TEXT,\n",
    "    MonthlyCharges REAL,\n",
    "    TotalCharges REAL,\n",
    "    Churn TEXT\n",
    ");\n",
    "\"\"\"\n"
   ]
  },
  {
   "cell_type": "code",
   "execution_count": 7,
   "id": "ec382b0d",
   "metadata": {
    "execution": {
     "iopub.execute_input": "2025-08-24T12:21:41.244384Z",
     "iopub.status.busy": "2025-08-24T12:21:41.244384Z",
     "iopub.status.idle": "2025-08-24T12:21:41.270428Z",
     "shell.execute_reply": "2025-08-24T12:21:41.268415Z"
    }
   },
   "outputs": [],
   "source": [
    "cursor = conn.cursor()\n",
    "cursor.execute(\"DROP TABLE IF EXISTS ChurnModelling;\")\n",
    "cursor.execute(\"DROP TABLE IF EXISTS TelcoChurn;\")\n",
    "cursor.execute(schema_churn)\n",
    "cursor.execute(schema_telco)\n",
    "conn.commit()"
   ]
  },
  {
   "cell_type": "code",
   "execution_count": 8,
   "id": "905d5c6f",
   "metadata": {
    "execution": {
     "iopub.execute_input": "2025-08-24T12:21:41.278432Z",
     "iopub.status.busy": "2025-08-24T12:21:41.277450Z",
     "iopub.status.idle": "2025-08-24T12:21:41.356489Z",
     "shell.execute_reply": "2025-08-24T12:21:41.355478Z"
    }
   },
   "outputs": [
    {
     "data": {
      "text/plain": [
       "7043"
      ]
     },
     "execution_count": 8,
     "metadata": {},
     "output_type": "execute_result"
    }
   ],
   "source": [
    "churn_df.to_sql(\"ChurnModelling\", conn, if_exists=\"replace\", index=False)\n",
    "telco_df.to_sql(\"TelcoChurn\", conn, if_exists=\"replace\", index=False)\n"
   ]
  },
  {
   "cell_type": "code",
   "execution_count": 9,
   "id": "08549843",
   "metadata": {
    "execution": {
     "iopub.execute_input": "2025-08-24T12:21:41.362006Z",
     "iopub.status.busy": "2025-08-24T12:21:41.361006Z",
     "iopub.status.idle": "2025-08-24T12:21:41.389981Z",
     "shell.execute_reply": "2025-08-24T12:21:41.388931Z"
    }
   },
   "outputs": [
    {
     "name": "stdout",
     "output_type": "stream",
     "text": [
      "\n",
      " Running sample queries:\n",
      "  TenureGroup  AvgSpend\n",
      "0        None -0.193330\n",
      "1        0-12  0.223323\n",
      "      ChurnRate\n",
      "0  3.088768e-17\n"
     ]
    }
   ],
   "source": [
    "# 5. SAMPLE SQL QUERIES\n",
    "print(\"\\n Running sample queries:\")\n",
    "\n",
    "# Query 1: Average spend per tenure group (Telco)\n",
    "query1 = pd.read_sql(\"\"\"\n",
    "SELECT \n",
    "    CASE \n",
    "        WHEN tenure BETWEEN 0 AND 12 THEN '0-12'\n",
    "        WHEN tenure BETWEEN 13 AND 24 THEN '13-24'\n",
    "        WHEN tenure BETWEEN 25 AND 36 THEN '25-36'\n",
    "        WHEN tenure BETWEEN 37 AND 48 THEN '37-48'\n",
    "        WHEN tenure BETWEEN 49 AND 60 THEN '49-60'\n",
    "        WHEN tenure BETWEEN 61 AND 72 THEN '61-72'\n",
    "    END AS TenureGroup,\n",
    "    AVG(MonthlyCharges) AS AvgSpend\n",
    "FROM TelcoChurn\n",
    "GROUP BY TenureGroup;\n",
    "\"\"\", conn)\n",
    "print(query1)\n",
    "\n",
    "# Query 2: Churn rate by geography (ChurnModelling)\n",
    "query2 = pd.read_sql(\"\"\"\n",
    "SELECT AVG(Churn) AS ChurnRate\n",
    "FROM ChurnModelling;\n",
    "\"\"\", conn)\n",
    "print(query2)\n",
    "\n",
    "# Close connection\n",
    "conn.close()"
   ]
  }
 ],
 "metadata": {
  "kernelspec": {
   "display_name": "Python 3",
   "language": "python",
   "name": "python3"
  },
  "language_info": {
   "codemirror_mode": {
    "name": "ipython",
    "version": 3
   },
   "file_extension": ".py",
   "mimetype": "text/x-python",
   "name": "python",
   "nbconvert_exporter": "python",
   "pygments_lexer": "ipython3",
   "version": "3.11.9"
  }
 },
 "nbformat": 4,
 "nbformat_minor": 5
}
