{
 "cells": [
  {
   "cell_type": "code",
   "execution_count": 1,
   "id": "3057f75b",
   "metadata": {
    "execution": {
     "iopub.execute_input": "2025-08-24T09:03:13.027166Z",
     "iopub.status.busy": "2025-08-24T09:03:13.026167Z",
     "iopub.status.idle": "2025-08-24T09:03:56.661611Z",
     "shell.execute_reply": "2025-08-24T09:03:56.660560Z"
    }
   },
   "outputs": [
    {
     "name": "stdout",
     "output_type": "stream",
     "text": [
      "Requirement already satisfied: matplotlib in c:\\users\\nmshaik\\appdata\\local\\packages\\pythonsoftwarefoundation.python.3.11_qbz5n2kfra8p0\\localcache\\local-packages\\python311\\site-packages (3.10.5)\n",
      "Requirement already satisfied: contourpy>=1.0.1 in c:\\users\\nmshaik\\appdata\\local\\packages\\pythonsoftwarefoundation.python.3.11_qbz5n2kfra8p0\\localcache\\local-packages\\python311\\site-packages (from matplotlib) (1.3.3)\n",
      "Requirement already satisfied: cycler>=0.10 in c:\\users\\nmshaik\\appdata\\local\\packages\\pythonsoftwarefoundation.python.3.11_qbz5n2kfra8p0\\localcache\\local-packages\\python311\\site-packages (from matplotlib) (0.12.1)\n",
      "Requirement already satisfied: fonttools>=4.22.0 in c:\\users\\nmshaik\\appdata\\local\\packages\\pythonsoftwarefoundation.python.3.11_qbz5n2kfra8p0\\localcache\\local-packages\\python311\\site-packages (from matplotlib) (4.59.1)\n",
      "Requirement already satisfied: kiwisolver>=1.3.1 in c:\\users\\nmshaik\\appdata\\local\\packages\\pythonsoftwarefoundation.python.3.11_qbz5n2kfra8p0\\localcache\\local-packages\\python311\\site-packages (from matplotlib) (1.4.9)\n",
      "Requirement already satisfied: numpy>=1.23 in c:\\users\\nmshaik\\appdata\\local\\packages\\pythonsoftwarefoundation.python.3.11_qbz5n2kfra8p0\\localcache\\local-packages\\python311\\site-packages (from matplotlib) (2.3.2)\n",
      "Requirement already satisfied: packaging>=20.0 in c:\\users\\nmshaik\\appdata\\local\\packages\\pythonsoftwarefoundation.python.3.11_qbz5n2kfra8p0\\localcache\\local-packages\\python311\\site-packages (from matplotlib) (25.0)\n",
      "Requirement already satisfied: pillow>=8 in c:\\users\\nmshaik\\appdata\\local\\packages\\pythonsoftwarefoundation.python.3.11_qbz5n2kfra8p0\\localcache\\local-packages\\python311\\site-packages (from matplotlib) (11.3.0)\n",
      "Requirement already satisfied: pyparsing>=2.3.1 in c:\\users\\nmshaik\\appdata\\local\\packages\\pythonsoftwarefoundation.python.3.11_qbz5n2kfra8p0\\localcache\\local-packages\\python311\\site-packages (from matplotlib) (3.2.3)\n",
      "Requirement already satisfied: python-dateutil>=2.7 in c:\\users\\nmshaik\\appdata\\local\\packages\\pythonsoftwarefoundation.python.3.11_qbz5n2kfra8p0\\localcache\\local-packages\\python311\\site-packages (from matplotlib) (2.9.0.post0)\n",
      "Requirement already satisfied: six>=1.5 in c:\\users\\nmshaik\\appdata\\local\\packages\\pythonsoftwarefoundation.python.3.11_qbz5n2kfra8p0\\localcache\\local-packages\\python311\\site-packages (from python-dateutil>=2.7->matplotlib) (1.17.0)\n"
     ]
    },
    {
     "name": "stdout",
     "output_type": "stream",
     "text": [
      "Requirement already satisfied: seaborn in c:\\users\\nmshaik\\appdata\\local\\packages\\pythonsoftwarefoundation.python.3.11_qbz5n2kfra8p0\\localcache\\local-packages\\python311\\site-packages (0.13.2)\n",
      "Requirement already satisfied: numpy!=1.24.0,>=1.20 in c:\\users\\nmshaik\\appdata\\local\\packages\\pythonsoftwarefoundation.python.3.11_qbz5n2kfra8p0\\localcache\\local-packages\\python311\\site-packages (from seaborn) (2.3.2)\n",
      "Requirement already satisfied: pandas>=1.2 in c:\\users\\nmshaik\\appdata\\local\\packages\\pythonsoftwarefoundation.python.3.11_qbz5n2kfra8p0\\localcache\\local-packages\\python311\\site-packages (from seaborn) (2.3.2)\n",
      "Requirement already satisfied: matplotlib!=3.6.1,>=3.4 in c:\\users\\nmshaik\\appdata\\local\\packages\\pythonsoftwarefoundation.python.3.11_qbz5n2kfra8p0\\localcache\\local-packages\\python311\\site-packages (from seaborn) (3.10.5)\n",
      "Requirement already satisfied: contourpy>=1.0.1 in c:\\users\\nmshaik\\appdata\\local\\packages\\pythonsoftwarefoundation.python.3.11_qbz5n2kfra8p0\\localcache\\local-packages\\python311\\site-packages (from matplotlib!=3.6.1,>=3.4->seaborn) (1.3.3)\n",
      "Requirement already satisfied: cycler>=0.10 in c:\\users\\nmshaik\\appdata\\local\\packages\\pythonsoftwarefoundation.python.3.11_qbz5n2kfra8p0\\localcache\\local-packages\\python311\\site-packages (from matplotlib!=3.6.1,>=3.4->seaborn) (0.12.1)\n",
      "Requirement already satisfied: fonttools>=4.22.0 in c:\\users\\nmshaik\\appdata\\local\\packages\\pythonsoftwarefoundation.python.3.11_qbz5n2kfra8p0\\localcache\\local-packages\\python311\\site-packages (from matplotlib!=3.6.1,>=3.4->seaborn) (4.59.1)\n",
      "Requirement already satisfied: kiwisolver>=1.3.1 in c:\\users\\nmshaik\\appdata\\local\\packages\\pythonsoftwarefoundation.python.3.11_qbz5n2kfra8p0\\localcache\\local-packages\\python311\\site-packages (from matplotlib!=3.6.1,>=3.4->seaborn) (1.4.9)\n",
      "Requirement already satisfied: packaging>=20.0 in c:\\users\\nmshaik\\appdata\\local\\packages\\pythonsoftwarefoundation.python.3.11_qbz5n2kfra8p0\\localcache\\local-packages\\python311\\site-packages (from matplotlib!=3.6.1,>=3.4->seaborn) (25.0)\n",
      "Requirement already satisfied: pillow>=8 in c:\\users\\nmshaik\\appdata\\local\\packages\\pythonsoftwarefoundation.python.3.11_qbz5n2kfra8p0\\localcache\\local-packages\\python311\\site-packages (from matplotlib!=3.6.1,>=3.4->seaborn) (11.3.0)\n",
      "Requirement already satisfied: pyparsing>=2.3.1 in c:\\users\\nmshaik\\appdata\\local\\packages\\pythonsoftwarefoundation.python.3.11_qbz5n2kfra8p0\\localcache\\local-packages\\python311\\site-packages (from matplotlib!=3.6.1,>=3.4->seaborn) (3.2.3)\n",
      "Requirement already satisfied: python-dateutil>=2.7 in c:\\users\\nmshaik\\appdata\\local\\packages\\pythonsoftwarefoundation.python.3.11_qbz5n2kfra8p0\\localcache\\local-packages\\python311\\site-packages (from matplotlib!=3.6.1,>=3.4->seaborn) (2.9.0.post0)\n",
      "Requirement already satisfied: pytz>=2020.1 in c:\\users\\nmshaik\\appdata\\local\\packages\\pythonsoftwarefoundation.python.3.11_qbz5n2kfra8p0\\localcache\\local-packages\\python311\\site-packages (from pandas>=1.2->seaborn) (2025.2)\n",
      "Requirement already satisfied: tzdata>=2022.7 in c:\\users\\nmshaik\\appdata\\local\\packages\\pythonsoftwarefoundation.python.3.11_qbz5n2kfra8p0\\localcache\\local-packages\\python311\\site-packages (from pandas>=1.2->seaborn) (2025.2)\n",
      "Requirement already satisfied: six>=1.5 in c:\\users\\nmshaik\\appdata\\local\\packages\\pythonsoftwarefoundation.python.3.11_qbz5n2kfra8p0\\localcache\\local-packages\\python311\\site-packages (from python-dateutil>=2.7->matplotlib!=3.6.1,>=3.4->seaborn) (1.17.0)\n"
     ]
    }
   ],
   "source": [
    "!pip install matplotlib\n",
    "!pip install seaborn\n",
    "import pandas as pd\n",
    "import numpy as np\n",
    "import matplotlib.pyplot as plt\n",
    "import seaborn as sns\n",
    "from sklearn.preprocessing import StandardScaler, MinMaxScaler, LabelEncoder\n",
    "import os\n",
    "\n",
    "sns.set_theme(style=\"whitegrid\")\n",
    "plt.rcParams[\"figure.figsize\"] = (10,6)\n",
    "\n",
    "PROCESSED_DIR =  \"processed_data\"\n",
    "os.makedirs(PROCESSED_DIR, exist_ok=True)"
   ]
  },
  {
   "cell_type": "code",
   "execution_count": 2,
   "id": "c5f975d7",
   "metadata": {
    "execution": {
     "iopub.execute_input": "2025-08-24T09:03:56.667627Z",
     "iopub.status.busy": "2025-08-24T09:03:56.666625Z",
     "iopub.status.idle": "2025-08-24T09:03:56.675547Z",
     "shell.execute_reply": "2025-08-24T09:03:56.674709Z"
    }
   },
   "outputs": [],
   "source": [
    "def clean_dataset(df: pd.DataFrame, dataset_name: str):\n",
    "    print(f\"\\n--- Cleaning {dataset_name} ---\")\n",
    "\n",
    "    # 1. Drop duplicates\n",
    "    before = df.shape[0]\n",
    "    df = df.drop_duplicates()\n",
    "    after = df.shape[0]\n",
    "    print(f\"Removed {before - after} duplicate rows\")\n",
    "\n",
    "    # 2. Handle missing values\n",
    "    missing_summary = df.isnull().sum()\n",
    "    print(\"Missing values:\\n\", missing_summary[missing_summary > 0])\n",
    "\n",
    "    # Strategy: fill numeric with median, categorical with mode\n",
    "    for col in df.columns:\n",
    "        if df[col].dtype in [\"int64\", \"float64\"]:\n",
    "            df[col] = df[col].fillna(df[col].median())\n",
    "        else:\n",
    "            df[col] = df[col].fillna(df[col].mode()[0])\n",
    "\n",
    "    # 3. Validate datatypes (convert object numerics)\n",
    "    for col in df.columns:\n",
    "        if df[col].dtype == \"object\":\n",
    "            try:\n",
    "                df[col] = pd.to_numeric(df[col])\n",
    "                print(f\"Converted {col} to numeric\")\n",
    "            except:\n",
    "                pass  # keep categorical\n",
    "\n",
    "    return df\n",
    "\n",
    "def preprocess_dataset(df: pd.DataFrame, dataset_name: str):\n",
    "    print(f\"\\n--- Preprocessing {dataset_name} ---\")\n",
    "\n",
    "    # Separate features & target (assume 'Churn' or 'Exited' is target)\n",
    "    target_col = None\n",
    "    for cand in [\"Churn\", \"Exited\", \"churn\", \"exited\"]:\n",
    "        if cand in df.columns:\n",
    "            target_col = cand\n",
    "            break\n",
    "\n",
    "    if not target_col:\n",
    "        raise ValueError(f\"No churn target found in {dataset_name}\")\n",
    "\n",
    "    X = df.drop(columns=[target_col])\n",
    "    y = df[target_col]\n",
    "\n",
    "    # Encode categorical vars\n",
    "    cat_cols = X.select_dtypes(include=\"object\").columns\n",
    "    for col in cat_cols:\n",
    "        le = LabelEncoder()\n",
    "        X[col] = le.fit_transform(X[col])\n",
    "        print(f\"Encoded {col}\")\n",
    "\n",
    "    # Scale numeric features\n",
    "    num_cols = X.select_dtypes(include=[\"int64\", \"float64\"]).columns\n",
    "    scaler = StandardScaler()\n",
    "    X[num_cols] = scaler.fit_transform(X[num_cols])\n",
    "\n",
    "    # Merge back target\n",
    "    df_prepared = pd.concat([X, y], axis=1)\n",
    "    return df_prepared"
   ]
  },
  {
   "cell_type": "code",
   "execution_count": 3,
   "id": "22c455dc",
   "metadata": {
    "execution": {
     "iopub.execute_input": "2025-08-24T09:03:56.678556Z",
     "iopub.status.busy": "2025-08-24T09:03:56.678556Z",
     "iopub.status.idle": "2025-08-24T09:03:56.718442Z",
     "shell.execute_reply": "2025-08-24T09:03:56.717323Z"
    }
   },
   "outputs": [
    {
     "name": "stdout",
     "output_type": "stream",
     "text": [
      "Kaggle Dataset Shape: (1409, 52)\n",
      "HuggingFace Dataset Shape: (7043, 21)\n"
     ]
    }
   ],
   "source": [
    "kaggle_path = \"../raw_data/churn_modelling_cleaned.csv\"\n",
    "hf_path = \"../raw_data/WA_Fn-UseC_-Telco-Customer-Churn_cleaned.csv\"\n",
    "\n",
    "df_kaggle = pd.read_csv(kaggle_path)\n",
    "df_hf = pd.read_csv(hf_path)\n",
    "\n",
    "print(\"Kaggle Dataset Shape:\", df_kaggle.shape)\n",
    "print(\"HuggingFace Dataset Shape:\", df_hf.shape)"
   ]
  },
  {
   "cell_type": "code",
   "execution_count": 4,
   "id": "965fa5ff",
   "metadata": {
    "execution": {
     "iopub.execute_input": "2025-08-24T09:03:56.722331Z",
     "iopub.status.busy": "2025-08-24T09:03:56.721418Z",
     "iopub.status.idle": "2025-08-24T09:03:57.063431Z",
     "shell.execute_reply": "2025-08-24T09:03:57.062421Z"
    }
   },
   "outputs": [
    {
     "name": "stdout",
     "output_type": "stream",
     "text": [
      "\n",
      "--- Cleaning ../raw_data/churn_modelling_cleaned.csv ---\n",
      "Removed 0 duplicate rows\n",
      "Missing values:\n",
      " Series([], dtype: int64)\n",
      "\n",
      "--- Cleaning ../raw_data/WA_Fn-UseC_-Telco-Customer-Churn_cleaned.csv ---\n",
      "Removed 0 duplicate rows\n",
      "Missing values:\n",
      " Series([], dtype: int64)\n",
      "\n",
      "--- Preprocessing Kaggle ---\n",
      "Encoded Churn Category\n",
      "Encoded Churn Reason\n",
      "Encoded City\n",
      "Encoded Contract\n",
      "Encoded Country\n",
      "Encoded Customer ID\n",
      "Encoded Customer Status\n",
      "Encoded Gender\n",
      "Encoded Internet Type\n",
      "Encoded Lat Long\n",
      "Encoded Offer\n",
      "Encoded Payment Method\n",
      "Encoded Quarter\n",
      "Encoded State\n",
      "\n",
      "--- Preprocessing HuggingFace ---\n",
      "Encoded customerID\n",
      "Encoded gender\n",
      "Encoded Partner\n",
      "Encoded Dependents\n",
      "Encoded PhoneService\n",
      "Encoded MultipleLines\n",
      "Encoded InternetService\n",
      "Encoded OnlineSecurity\n",
      "Encoded OnlineBackup\n",
      "Encoded DeviceProtection\n",
      "Encoded TechSupport\n",
      "Encoded StreamingTV\n",
      "Encoded StreamingMovies\n",
      "Encoded Contract\n",
      "Encoded PaperlessBilling\n",
      "Encoded PaymentMethod\n",
      "Encoded TotalCharges\n"
     ]
    }
   ],
   "source": [
    "df_kaggle_clean = clean_dataset(df_kaggle, \"../raw_data/churn_modelling_cleaned.csv\")\n",
    "df_hf_clean = clean_dataset(df_hf, \"../raw_data/WA_Fn-UseC_-Telco-Customer-Churn_cleaned.csv\")\n",
    "\n",
    "df_kaggle_prep = preprocess_dataset(df_kaggle_clean, \"Kaggle\")\n",
    "df_hf_prep = preprocess_dataset(df_hf_clean, \"HuggingFace\")\n",
    "\n",
    "df_kaggle_prep.to_csv(\"processed_data/clean_kaggle.csv\", index=False)\n",
    "df_hf_prep.to_csv(\"processed_data/clean_hf.csv\", index=False)"
   ]
  }
 ],
 "metadata": {
  "kernelspec": {
   "display_name": "Python 3",
   "language": "python",
   "name": "python3"
  },
  "language_info": {
   "codemirror_mode": {
    "name": "ipython",
    "version": 3
   },
   "file_extension": ".py",
   "mimetype": "text/x-python",
   "name": "python",
   "nbconvert_exporter": "python",
   "pygments_lexer": "ipython3",
   "version": "3.11.9"
  }
 },
 "nbformat": 4,
 "nbformat_minor": 5
}
