{
 "cells": [
  {
   "cell_type": "code",
   "execution_count": 12,
   "id": "02d47b7b",
   "metadata": {},
   "outputs": [
    {
     "name": "stdout",
     "output_type": "stream",
     "text": [
      "Requirement already satisfied: pandas in c:\\users\\nmshaik\\appdata\\local\\packages\\pythonsoftwarefoundation.python.3.11_qbz5n2kfra8p0\\localcache\\local-packages\\python311\\site-packages (2.3.2)\n",
      "Requirement already satisfied: numpy>=1.23.2 in c:\\users\\nmshaik\\appdata\\local\\packages\\pythonsoftwarefoundation.python.3.11_qbz5n2kfra8p0\\localcache\\local-packages\\python311\\site-packages (from pandas) (2.3.2)\n",
      "Requirement already satisfied: python-dateutil>=2.8.2 in c:\\users\\nmshaik\\appdata\\local\\packages\\pythonsoftwarefoundation.python.3.11_qbz5n2kfra8p0\\localcache\\local-packages\\python311\\site-packages (from pandas) (2.9.0.post0)\n",
      "Requirement already satisfied: pytz>=2020.1 in c:\\users\\nmshaik\\appdata\\local\\packages\\pythonsoftwarefoundation.python.3.11_qbz5n2kfra8p0\\localcache\\local-packages\\python311\\site-packages (from pandas) (2025.2)\n",
      "Requirement already satisfied: tzdata>=2022.7 in c:\\users\\nmshaik\\appdata\\local\\packages\\pythonsoftwarefoundation.python.3.11_qbz5n2kfra8p0\\localcache\\local-packages\\python311\\site-packages (from pandas) (2025.2)\n",
      "Requirement already satisfied: six>=1.5 in c:\\users\\nmshaik\\appdata\\local\\packages\\pythonsoftwarefoundation.python.3.11_qbz5n2kfra8p0\\localcache\\local-packages\\python311\\site-packages (from python-dateutil>=2.8.2->pandas) (1.17.0)\n"
     ]
    }
   ],
   "source": [
    "!pip install pandas "
   ]
  },
  {
   "cell_type": "code",
   "execution_count": 14,
   "id": "a9222a3a",
   "metadata": {
    "execution": {
     "iopub.execute_input": "2025-08-24T10:27:19.983692Z",
     "iopub.status.busy": "2025-08-24T10:27:19.980684Z",
     "iopub.status.idle": "2025-08-24T10:27:21.256309Z",
     "shell.execute_reply": "2025-08-24T10:27:21.247779Z"
    }
   },
   "outputs": [
    {
     "ename": "AttributeError",
     "evalue": "partially initialized module 'pandas' has no attribute 'core' (most likely due to a circular import)",
     "output_type": "error",
     "traceback": [
      "\u001b[31m---------------------------------------------------------------------------\u001b[39m",
      "\u001b[31mAttributeError\u001b[39m                            Traceback (most recent call last)",
      "\u001b[36mCell\u001b[39m\u001b[36m \u001b[39m\u001b[32mIn[14]\u001b[39m\u001b[32m, line 2\u001b[39m\n\u001b[32m      1\u001b[39m \u001b[38;5;28;01mimport\u001b[39;00m\u001b[38;5;250m \u001b[39m\u001b[34;01msqlite3\u001b[39;00m\n\u001b[32m----> \u001b[39m\u001b[32m2\u001b[39m \u001b[38;5;28;01mimport\u001b[39;00m\u001b[38;5;250m \u001b[39m\u001b[34;01mpandas\u001b[39;00m\u001b[38;5;250m \u001b[39m\u001b[38;5;28;01mas\u001b[39;00m\u001b[38;5;250m \u001b[39m\u001b[34;01mpd\u001b[39;00m\n\u001b[32m      3\u001b[39m \u001b[38;5;28;01mfrom\u001b[39;00m\u001b[38;5;250m \u001b[39m\u001b[34;01mdatetime\u001b[39;00m\u001b[38;5;250m \u001b[39m\u001b[38;5;28;01mimport\u001b[39;00m datetime\n\u001b[32m      4\u001b[39m \u001b[38;5;28;01mfrom\u001b[39;00m\u001b[38;5;250m \u001b[39m\u001b[34;01mpathlib\u001b[39;00m\u001b[38;5;250m \u001b[39m\u001b[38;5;28;01mimport\u001b[39;00m Path\n",
      "\u001b[36mFile \u001b[39m\u001b[32m~\\AppData\\Local\\Packages\\PythonSoftwareFoundation.Python.3.11_qbz5n2kfra8p0\\LocalCache\\local-packages\\Python311\\site-packages\\pandas\\__init__.py:151\u001b[39m\n\u001b[32m    133\u001b[39m \u001b[38;5;28;01mfrom\u001b[39;00m\u001b[38;5;250m \u001b[39m\u001b[34;01mpandas\u001b[39;00m\u001b[34;01m.\u001b[39;00m\u001b[34;01mcore\u001b[39;00m\u001b[34;01m.\u001b[39;00m\u001b[34;01mreshape\u001b[39;00m\u001b[34;01m.\u001b[39;00m\u001b[34;01mapi\u001b[39;00m\u001b[38;5;250m \u001b[39m\u001b[38;5;28;01mimport\u001b[39;00m (\n\u001b[32m    134\u001b[39m     concat,\n\u001b[32m    135\u001b[39m     lreshape,\n\u001b[32m   (...)\u001b[39m\u001b[32m    147\u001b[39m     qcut,\n\u001b[32m    148\u001b[39m )\n\u001b[32m    150\u001b[39m \u001b[38;5;28;01mfrom\u001b[39;00m\u001b[38;5;250m \u001b[39m\u001b[34;01mpandas\u001b[39;00m\u001b[38;5;250m \u001b[39m\u001b[38;5;28;01mimport\u001b[39;00m api, arrays, errors, io, plotting, tseries\n\u001b[32m--> \u001b[39m\u001b[32m151\u001b[39m \u001b[38;5;28;01mfrom\u001b[39;00m\u001b[38;5;250m \u001b[39m\u001b[34;01mpandas\u001b[39;00m\u001b[38;5;250m \u001b[39m\u001b[38;5;28;01mimport\u001b[39;00m testing\n\u001b[32m    152\u001b[39m \u001b[38;5;28;01mfrom\u001b[39;00m\u001b[38;5;250m \u001b[39m\u001b[34;01mpandas\u001b[39;00m\u001b[34;01m.\u001b[39;00m\u001b[34;01mutil\u001b[39;00m\u001b[34;01m.\u001b[39;00m\u001b[34;01m_print_versions\u001b[39;00m\u001b[38;5;250m \u001b[39m\u001b[38;5;28;01mimport\u001b[39;00m show_versions\n\u001b[32m    154\u001b[39m \u001b[38;5;28;01mfrom\u001b[39;00m\u001b[38;5;250m \u001b[39m\u001b[34;01mpandas\u001b[39;00m\u001b[34;01m.\u001b[39;00m\u001b[34;01mio\u001b[39;00m\u001b[34;01m.\u001b[39;00m\u001b[34;01mapi\u001b[39;00m\u001b[38;5;250m \u001b[39m\u001b[38;5;28;01mimport\u001b[39;00m (\n\u001b[32m    155\u001b[39m     \u001b[38;5;66;03m# excel\u001b[39;00m\n\u001b[32m    156\u001b[39m     ExcelFile,\n\u001b[32m   (...)\u001b[39m\u001b[32m    184\u001b[39m     read_spss,\n\u001b[32m    185\u001b[39m )\n",
      "\u001b[36mFile \u001b[39m\u001b[32m~\\AppData\\Local\\Packages\\PythonSoftwareFoundation.Python.3.11_qbz5n2kfra8p0\\LocalCache\\local-packages\\Python311\\site-packages\\pandas\\testing.py:6\u001b[39m\n\u001b[32m      1\u001b[39m \u001b[33;03m\"\"\"\u001b[39;00m\n\u001b[32m      2\u001b[39m \u001b[33;03mPublic testing utility functions.\u001b[39;00m\n\u001b[32m      3\u001b[39m \u001b[33;03m\"\"\"\u001b[39;00m\n\u001b[32m----> \u001b[39m\u001b[32m6\u001b[39m \u001b[38;5;28;01mfrom\u001b[39;00m\u001b[38;5;250m \u001b[39m\u001b[34;01mpandas\u001b[39;00m\u001b[34;01m.\u001b[39;00m\u001b[34;01m_testing\u001b[39;00m\u001b[38;5;250m \u001b[39m\u001b[38;5;28;01mimport\u001b[39;00m (\n\u001b[32m      7\u001b[39m     assert_extension_array_equal,\n\u001b[32m      8\u001b[39m     assert_frame_equal,\n\u001b[32m      9\u001b[39m     assert_index_equal,\n\u001b[32m     10\u001b[39m     assert_series_equal,\n\u001b[32m     11\u001b[39m )\n\u001b[32m     13\u001b[39m __all__ = [\n\u001b[32m     14\u001b[39m     \u001b[33m\"\u001b[39m\u001b[33massert_extension_array_equal\u001b[39m\u001b[33m\"\u001b[39m,\n\u001b[32m     15\u001b[39m     \u001b[33m\"\u001b[39m\u001b[33massert_frame_equal\u001b[39m\u001b[33m\"\u001b[39m,\n\u001b[32m     16\u001b[39m     \u001b[33m\"\u001b[39m\u001b[33massert_series_equal\u001b[39m\u001b[33m\"\u001b[39m,\n\u001b[32m     17\u001b[39m     \u001b[33m\"\u001b[39m\u001b[33massert_index_equal\u001b[39m\u001b[33m\"\u001b[39m,\n\u001b[32m     18\u001b[39m ]\n",
      "\u001b[36mFile \u001b[39m\u001b[32m~\\AppData\\Local\\Packages\\PythonSoftwareFoundation.Python.3.11_qbz5n2kfra8p0\\LocalCache\\local-packages\\Python311\\site-packages\\pandas\\_testing\\__init__.py:405\u001b[39m\n\u001b[32m    400\u001b[39m     \u001b[38;5;28;01mimport\u001b[39;00m\u001b[38;5;250m \u001b[39m\u001b[34;01mpytest\u001b[39;00m\n\u001b[32m    402\u001b[39m     \u001b[38;5;28;01mreturn\u001b[39;00m pytest.raises(expected_exception, match=\u001b[38;5;28;01mNone\u001b[39;00m)\n\u001b[32m--> \u001b[39m\u001b[32m405\u001b[39m cython_table = \u001b[43mpd\u001b[49m\u001b[43m.\u001b[49m\u001b[43mcore\u001b[49m.common._cython_table.items()\n\u001b[32m    408\u001b[39m \u001b[38;5;28;01mdef\u001b[39;00m\u001b[38;5;250m \u001b[39m\u001b[34mget_cython_table_params\u001b[39m(ndframe, func_names_and_expected):\n\u001b[32m    409\u001b[39m \u001b[38;5;250m    \u001b[39m\u001b[33;03m\"\"\"\u001b[39;00m\n\u001b[32m    410\u001b[39m \u001b[33;03m    Combine frame, functions from com._cython_table\u001b[39;00m\n\u001b[32m    411\u001b[39m \u001b[33;03m    keys and expected result.\u001b[39;00m\n\u001b[32m   (...)\u001b[39m\u001b[32m    423\u001b[39m \u001b[33;03m        List of three items (DataFrame, function, expected result)\u001b[39;00m\n\u001b[32m    424\u001b[39m \u001b[33;03m    \"\"\"\u001b[39;00m\n",
      "\u001b[31mAttributeError\u001b[39m: partially initialized module 'pandas' has no attribute 'core' (most likely due to a circular import)"
     ]
    }
   ],
   "source": [
    "import sqlite3\n",
    "import pandas as pd\n",
    "from datetime import datetime\n",
    "from pathlib import Path\n",
    "from IPython.display import display\n",
    "\n",
    "# Directory containing your CSV files\n",
    "csv_dir = Path(\"processed_data/csv\")  # change this to your CSV folder path\n",
    "\n",
    "# Connect to SQLite database\n",
    "conn = sqlite3.connect(\"feature_store.db\")\n",
    "cursor = conn.cursor()\n",
    "\n",
    "# -------- Step 1: Create metadata table (if not exists) --------\n",
    "cursor.execute('''\n",
    "CREATE TABLE IF NOT EXISTS feature_metadata (\n",
    "    feature_name TEXT PRIMARY KEY,\n",
    "    description TEXT,\n",
    "    source TEXT,\n",
    "    version TEXT,\n",
    "    created_at TEXT\n",
    ")\n",
    "''')\n",
    "\n",
    "# -------- Step 2: Create feature store table (if not exists) --------\n",
    "cursor.execute('''\n",
    "CREATE TABLE IF NOT EXISTS feature_store (\n",
    "    customerID TEXT PRIMARY KEY,\n",
    "    tenure INTEGER,\n",
    "    MonthlyCharges REAL,\n",
    "    TotalCharges REAL,\n",
    "    Contract_OneYear INTEGER,\n",
    "    Contract_TwoYear INTEGER,\n",
    "    PaymentMethod_CreditCard INTEGER,\n",
    "    PaymentMethod_ElectronicCheck INTEGER,\n",
    "    PaymentMethod_MailedCheck INTEGER,\n",
    "    Churn INTEGER\n",
    ")\n",
    "''')\n",
    "\n",
    "# -------- Step 3: Loop through CSV files and insert data --------\n",
    "for csv_file in csv_dir.glob(\"*.csv\"):\n",
    "    print(f\"Inserting data from {csv_file.name}\")\n",
    "    \n",
    "    # Load CSV\n",
    "    df = pd.read_csv(csv_file)\n",
    "    \n",
    "    # Insert metadata dynamically\n",
    "    features_meta = []\n",
    "    for col in df.columns:\n",
    "        if col == \"Churn\":\n",
    "            source = \"Label\"\n",
    "            description = \"Whether customer churned (0/1)\"\n",
    "        elif col.startswith(\"Contract\") or col.startswith(\"PaymentMethod\"):\n",
    "            source = \"Engineered\"\n",
    "            description = f\"Feature: {col}\"\n",
    "        elif col == \"customerID\":\n",
    "            source = \"ID\"\n",
    "            description = \"Unique customer identifier\"\n",
    "        else:\n",
    "            source = \"Telco DB\"\n",
    "            description = f\"Feature: {col}\"\n",
    "        features_meta.append((col, description, source, \"v1\", str(datetime.now())))\n",
    "    \n",
    "    cursor.executemany('''\n",
    "    INSERT OR IGNORE INTO feature_metadata \n",
    "    (feature_name, description, source, version, created_at)\n",
    "    VALUES (?, ?, ?, ?, ?)\n",
    "    ''', features_meta)\n",
    "    \n",
    "    # Insert feature data dynamically\n",
    "    records = df.to_records(index=False)\n",
    "    cursor.executemany('''\n",
    "    INSERT OR REPLACE INTO feature_store VALUES (?, ?, ?, ?, ?, ?, ?, ?, ?, ?)\n",
    "    ''', records)\n",
    "\n",
    "# Commit all changes\n",
    "conn.commit()\n",
    "\n",
    "# -------- Step 4: Retrieve and display data --------\n",
    "features = pd.read_sql(\"SELECT * FROM feature_store\", conn)\n",
    "print(\"Feature Store Data:\")\n",
    "display(features)\n",
    "\n",
    "metadata = pd.read_sql(\"SELECT * FROM feature_metadata\", conn)\n",
    "print(\"Feature Metadata:\")\n",
    "display(metadata)\n",
    "\n",
    "# Close connection\n",
    "conn.close()\n"
   ]
  },
  {
   "cell_type": "code",
   "execution_count": null,
   "id": "f6144ffb",
   "metadata": {},
   "outputs": [],
   "source": [
    "def pipeline_with_versioning(df):\n",
    "    \"\"\"\n",
    "    Takes a real dataframe (with Churn) and registers versions.\n",
    "    \"\"\"\n",
    "    # ---- Feature Engineering ----\n",
    "    df[\"TotalSpend\"] = df[\"MonthlyCharges\"] * df[\"tenure\"]\n",
    "    df[\"LongTenureFlag\"] = df[\"tenure\"] > 24\n",
    "    df[\"PaymentScore\"] = df[\"PaymentMethod\"].apply(lambda x: 0 if x == \"ElectronicCheck\" else 1)\n",
    " \n",
    "    # Save raw & engineered data\n",
    "    raw_path = \"reports/raw_customers.csv\"\n",
    "    eng_path = \"reports/engineered_customers.csv\"\n",
    "    df.to_csv(eng_path, index=False)\n",
    " \n",
    " \n",
    " "
   ]
  },
  {
   "cell_type": "code",
   "execution_count": null,
   "id": "8f54a518",
   "metadata": {},
   "outputs": [],
   "source": [
    "pipeline_with_versioning(engineered_df)"
   ]
  },
  {
   "cell_type": "code",
   "execution_count": null,
   "id": "c7f20600",
   "metadata": {},
   "outputs": [],
   "source": [
    "DB_PATH = \"D:\\BITS_SEM2\\DMML_Assignment\\Task6_FeatureStore\\feature_store.db\"\n",
    "def export_features_to_parquet(db_path=DB_PATH):\n",
    "    conn = sqlite3.connect(db_path)\n",
    "    df = pd.read_sql_query(\"SELECT * FROM feature_store\", conn)\n",
    "    conn.close()\n",
    "\n",
    "    # Convert problematic types\n",
    "    for col in df.columns:\n",
    "        if pd.api.types.is_period_dtype(df[col]):\n",
    "            df[col] = df[col].astype(str)\n",
    "    for col in df.select_dtypes([\"category\", \"object\"]).columns:\n",
    "        df[col] = df[col].astype(str)\n",
    "    for col in df.select_dtypes(include=[\"datetimetz\"]).columns:\n",
    "        df[col] = df[col].dt.tz_localize(None)\n",
    "\n",
    "    # Export with fastparquet\n",
    "    out_path = os.path.join(FEATURE_STORE_DIR, \"customer_features.parquet\")\n",
    "    df.to_parquet(out_path, index=False, engine=\"fastparquet\")\n",
    "    print(f\"[Feature Store] Exported features → {out_path}\")\n",
    "    return out_path"
   ]
  },
  {
   "cell_type": "code",
   "execution_count": null,
   "id": "f47ac43a",
   "metadata": {},
   "outputs": [
    {
     "ename": "NameError",
     "evalue": "name 'sqlite3' is not defined",
     "output_type": "error",
     "traceback": [
      "\u001b[31m---------------------------------------------------------------------------\u001b[39m",
      "\u001b[31mNameError\u001b[39m                                 Traceback (most recent call last)",
      "\u001b[36mCell\u001b[39m\u001b[36m \u001b[39m\u001b[32mIn[9]\u001b[39m\u001b[32m, line 1\u001b[39m\n\u001b[32m----> \u001b[39m\u001b[32m1\u001b[39m \u001b[43mexport_features_to_parquet\u001b[49m\u001b[43m(\u001b[49m\u001b[33;43m\"\u001b[39;49m\u001b[33;43mD:\u001b[39;49m\u001b[33;43m\\\u001b[39;49m\u001b[33;43mBITS_SEM2\u001b[39;49m\u001b[33;43m\\\u001b[39;49m\u001b[33;43mDMML_Assignment\u001b[39;49m\u001b[33;43m\\\u001b[39;49m\u001b[33;43mTask6_FeatureStore\u001b[39;49m\u001b[38;5;130;43;01m\\f\u001b[39;49;00m\u001b[33;43meature_store.db\u001b[39;49m\u001b[33;43m\"\u001b[39;49m\u001b[43m)\u001b[49m\n",
      "\u001b[36mCell\u001b[39m\u001b[36m \u001b[39m\u001b[32mIn[8]\u001b[39m\u001b[32m, line 3\u001b[39m, in \u001b[36mexport_features_to_parquet\u001b[39m\u001b[34m(db_path)\u001b[39m\n\u001b[32m      2\u001b[39m \u001b[38;5;28;01mdef\u001b[39;00m\u001b[38;5;250m \u001b[39m\u001b[34mexport_features_to_parquet\u001b[39m(db_path=DB_PATH):\n\u001b[32m----> \u001b[39m\u001b[32m3\u001b[39m     conn = \u001b[43msqlite3\u001b[49m.connect(db_path)\n\u001b[32m      4\u001b[39m     df = pd.read_sql_query(\u001b[33m\"\u001b[39m\u001b[33mSELECT * FROM feature_store\u001b[39m\u001b[33m\"\u001b[39m, conn)\n\u001b[32m      5\u001b[39m     conn.close()\n",
      "\u001b[31mNameError\u001b[39m: name 'sqlite3' is not defined"
     ]
    }
   ],
   "source": [
    " export_features_to_parquet(\"D:\\BITS_SEM2\\DMML_Assignment\\Task6_FeatureStore\\feature_store.db\")"
   ]
  }
 ],
 "metadata": {
  "kernelspec": {
   "display_name": "Python 3",
   "language": "python",
   "name": "python3"
  },
  "language_info": {
   "codemirror_mode": {
    "name": "ipython",
    "version": 3
   },
   "file_extension": ".py",
   "mimetype": "text/x-python",
   "name": "python",
   "nbconvert_exporter": "python",
   "pygments_lexer": "ipython3",
   "version": "3.11.9"
  }
 },
 "nbformat": 4,
 "nbformat_minor": 5
}
