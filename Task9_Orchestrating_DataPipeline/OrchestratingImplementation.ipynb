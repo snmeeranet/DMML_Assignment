{
 "cells": [
  {
   "cell_type": "code",
   "execution_count": 22,
   "id": "8cce8e6d",
   "metadata": {},
   "outputs": [
    {
     "data": {
      "text/html": [
       "<pre style=\"white-space:pre;overflow-x:auto;line-height:normal;font-family:Menlo,'DejaVu Sans Mono',consolas,'Courier New',monospace\">14:32:39.181 | <span style=\"color: #008080; text-decoration-color: #008080\">INFO</span>    | Flow run<span style=\"color: #800080; text-decoration-color: #800080\"> 'quizzical-quetzal'</span> - Beginning flow run<span style=\"color: #800080; text-decoration-color: #800080\"> 'quizzical-quetzal'</span> for flow<span style=\"color: #800080; text-decoration-color: #800080; font-weight: bold\"> 'churn-pipeline'</span>\n",
       "</pre>\n"
      ],
      "text/plain": [
       "14:32:39.181 | \u001b[36mINFO\u001b[0m    | Flow run\u001b[35m 'quizzical-quetzal'\u001b[0m - Beginning flow run\u001b[35m 'quizzical-quetzal'\u001b[0m for flow\u001b[1;35m 'churn-pipeline'\u001b[0m\n"
      ]
     },
     "metadata": {},
     "output_type": "display_data"
    },
    {
     "name": "stdout",
     "output_type": "stream",
     "text": [
      "✅ Successfully executed: D:\\BITS_SEM2\\DMML_Assignment\\Task1_DataIngestion\\DataIngestionImplementation.ipynb\n"
     ]
    },
    {
     "data": {
      "text/html": [
       "<pre style=\"white-space:pre;overflow-x:auto;line-height:normal;font-family:Menlo,'DejaVu Sans Mono',consolas,'Courier New',monospace\">14:32:54.069 | <span style=\"color: #008080; text-decoration-color: #008080\">INFO</span>    | Task run 'run_main-947' - Finished in state <span style=\"color: #008000; text-decoration-color: #008000\">Completed</span>()\n",
       "</pre>\n"
      ],
      "text/plain": [
       "14:32:54.069 | \u001b[36mINFO\u001b[0m    | Task run 'run_main-947' - Finished in state \u001b[32mCompleted\u001b[0m()\n"
      ]
     },
     "metadata": {},
     "output_type": "display_data"
    },
    {
     "name": "stdout",
     "output_type": "stream",
     "text": [
      "✅ Successfully executed: D:\\BITS_SEM2\\DMML_Assignment\\Task2_RawDataStorage\\RawDataStorageImplementation.ipynb\n"
     ]
    },
    {
     "data": {
      "text/html": [
       "<pre style=\"white-space:pre;overflow-x:auto;line-height:normal;font-family:Menlo,'DejaVu Sans Mono',consolas,'Courier New',monospace\">14:33:01.902 | <span style=\"color: #008080; text-decoration-color: #008080\">INFO</span>    | Task run 'run_main-02e' - Finished in state <span style=\"color: #008000; text-decoration-color: #008000\">Completed</span>()\n",
       "</pre>\n"
      ],
      "text/plain": [
       "14:33:01.902 | \u001b[36mINFO\u001b[0m    | Task run 'run_main-02e' - Finished in state \u001b[32mCompleted\u001b[0m()\n"
      ]
     },
     "metadata": {},
     "output_type": "display_data"
    },
    {
     "name": "stdout",
     "output_type": "stream",
     "text": [
      "✅ Successfully executed: D:\\BITS_SEM2\\DMML_Assignment\\Task3_DataValidation\\DataValidationImplementation.ipynb\n"
     ]
    },
    {
     "data": {
      "text/html": [
       "<pre style=\"white-space:pre;overflow-x:auto;line-height:normal;font-family:Menlo,'DejaVu Sans Mono',consolas,'Courier New',monospace\">14:33:08.234 | <span style=\"color: #008080; text-decoration-color: #008080\">INFO</span>    | Task run 'run_main-f2b' - Finished in state <span style=\"color: #008000; text-decoration-color: #008000\">Completed</span>()\n",
       "</pre>\n"
      ],
      "text/plain": [
       "14:33:08.234 | \u001b[36mINFO\u001b[0m    | Task run 'run_main-f2b' - Finished in state \u001b[32mCompleted\u001b[0m()\n"
      ]
     },
     "metadata": {},
     "output_type": "display_data"
    },
    {
     "name": "stdout",
     "output_type": "stream",
     "text": [
      "✅ Successfully executed: D:\\BITS_SEM2\\DMML_Assignment\\Task4_DataPreparation\\DataPreparation.ipynb\n"
     ]
    },
    {
     "data": {
      "text/html": [
       "<pre style=\"white-space:pre;overflow-x:auto;line-height:normal;font-family:Menlo,'DejaVu Sans Mono',consolas,'Courier New',monospace\">14:33:57.874 | <span style=\"color: #008080; text-decoration-color: #008080\">INFO</span>    | Task run 'run_main-aeb' - Finished in state <span style=\"color: #008000; text-decoration-color: #008000\">Completed</span>()\n",
       "</pre>\n"
      ],
      "text/plain": [
       "14:33:57.874 | \u001b[36mINFO\u001b[0m    | Task run 'run_main-aeb' - Finished in state \u001b[32mCompleted\u001b[0m()\n"
      ]
     },
     "metadata": {},
     "output_type": "display_data"
    },
    {
     "name": "stdout",
     "output_type": "stream",
     "text": [
      "✅ Successfully executed: D:\\BITS_SEM2\\DMML_Assignment\\Task5_DataTransformation_Storage\\DataTransformationStorageImplementation.ipynb\n"
     ]
    },
    {
     "data": {
      "text/html": [
       "<pre style=\"white-space:pre;overflow-x:auto;line-height:normal;font-family:Menlo,'DejaVu Sans Mono',consolas,'Courier New',monospace\">14:34:05.006 | <span style=\"color: #008080; text-decoration-color: #008080\">INFO</span>    | Task run 'run_main-7f4' - Finished in state <span style=\"color: #008000; text-decoration-color: #008000\">Completed</span>()\n",
       "</pre>\n"
      ],
      "text/plain": [
       "14:34:05.006 | \u001b[36mINFO\u001b[0m    | Task run 'run_main-7f4' - Finished in state \u001b[32mCompleted\u001b[0m()\n"
      ]
     },
     "metadata": {},
     "output_type": "display_data"
    },
    {
     "name": "stdout",
     "output_type": "stream",
     "text": [
      "✅ Successfully executed: D:\\BITS_SEM2\\DMML_Assignment\\Task6_FeatureStore\\FeatureStoreImplementation.ipynb\n"
     ]
    },
    {
     "data": {
      "text/html": [
       "<pre style=\"white-space:pre;overflow-x:auto;line-height:normal;font-family:Menlo,'DejaVu Sans Mono',consolas,'Courier New',monospace\">14:34:10.673 | <span style=\"color: #008080; text-decoration-color: #008080\">INFO</span>    | Task run 'run_main-1f5' - Finished in state <span style=\"color: #008000; text-decoration-color: #008000\">Completed</span>()\n",
       "</pre>\n"
      ],
      "text/plain": [
       "14:34:10.673 | \u001b[36mINFO\u001b[0m    | Task run 'run_main-1f5' - Finished in state \u001b[32mCompleted\u001b[0m()\n"
      ]
     },
     "metadata": {},
     "output_type": "display_data"
    },
    {
     "name": "stdout",
     "output_type": "stream",
     "text": [
      "✅ Successfully executed: D:\\BITS_SEM2\\DMML_Assignment\\Task7_DataVersioning\\DataVersioningImplementation.ipynb\n"
     ]
    },
    {
     "data": {
      "text/html": [
       "<pre style=\"white-space:pre;overflow-x:auto;line-height:normal;font-family:Menlo,'DejaVu Sans Mono',consolas,'Courier New',monospace\">14:34:23.919 | <span style=\"color: #008080; text-decoration-color: #008080\">INFO</span>    | Task run 'run_main-167' - Finished in state <span style=\"color: #008000; text-decoration-color: #008000\">Completed</span>()\n",
       "</pre>\n"
      ],
      "text/plain": [
       "14:34:23.919 | \u001b[36mINFO\u001b[0m    | Task run 'run_main-167' - Finished in state \u001b[32mCompleted\u001b[0m()\n"
      ]
     },
     "metadata": {},
     "output_type": "display_data"
    },
    {
     "name": "stdout",
     "output_type": "stream",
     "text": [
      "✅ Successfully executed: D:\\BITS_SEM2\\DMML_Assignment\\Task8_ModelBuilding\\ModelBuildingImplementation.ipynb\n"
     ]
    },
    {
     "data": {
      "text/html": [
       "<pre style=\"white-space:pre;overflow-x:auto;line-height:normal;font-family:Menlo,'DejaVu Sans Mono',consolas,'Courier New',monospace\">14:34:50.366 | <span style=\"color: #008080; text-decoration-color: #008080\">INFO</span>    | Task run 'run_main-1fe' - Finished in state <span style=\"color: #008000; text-decoration-color: #008000\">Completed</span>()\n",
       "</pre>\n"
      ],
      "text/plain": [
       "14:34:50.366 | \u001b[36mINFO\u001b[0m    | Task run 'run_main-1fe' - Finished in state \u001b[32mCompleted\u001b[0m()\n"
      ]
     },
     "metadata": {},
     "output_type": "display_data"
    },
    {
     "data": {
      "text/html": [
       "<pre style=\"white-space:pre;overflow-x:auto;line-height:normal;font-family:Menlo,'DejaVu Sans Mono',consolas,'Courier New',monospace\">14:34:50.420 | <span style=\"color: #008080; text-decoration-color: #008080\">INFO</span>    | Flow run<span style=\"color: #800080; text-decoration-color: #800080\"> 'quizzical-quetzal'</span> - Finished in state <span style=\"color: #008000; text-decoration-color: #008000\">Completed</span>()\n",
       "</pre>\n"
      ],
      "text/plain": [
       "14:34:50.420 | \u001b[36mINFO\u001b[0m    | Flow run\u001b[35m 'quizzical-quetzal'\u001b[0m - Finished in state \u001b[32mCompleted\u001b[0m()\n"
      ]
     },
     "metadata": {},
     "output_type": "display_data"
    }
   ],
   "source": [
    "import subprocess\n",
    "from pathlib import Path\n",
    "from prefect import task, flow\n",
    "\n",
    "@task\n",
    "def run_main(path: str):\n",
    "    file = Path(path).resolve()  # ensure absolute path\n",
    "    try:\n",
    "        if file.suffix == \".ipynb\":\n",
    "            # Execute notebook directly in-place\n",
    "            subprocess.run(\n",
    "                [\"jupyter\", \"nbconvert\", \"--to\", \"notebook\", \"--execute\", \"--inplace\", str(file)],\n",
    "                check=True\n",
    "            )\n",
    "        elif file.suffix == \".py\":\n",
    "            # Execute Python script directly\n",
    "            subprocess.run([\"python\", str(file)], check=True)\n",
    "        else:\n",
    "            raise ValueError(f\"Unsupported file type: {file.suffix}\")\n",
    "\n",
    "        print(f\"✅ Successfully executed: {file}\")\n",
    "\n",
    "    except subprocess.CalledProcessError as e:\n",
    "        print(f\"❌ Failed while executing {file}\")\n",
    "        print(\"STDOUT:\", e.stdout)\n",
    "        print(\"STDERR:\", e.stderr)\n",
    "        raise\n",
    "\n",
    "\n",
    "@flow\n",
    "def churn_pipeline():\n",
    "    # ---- Pipeline Steps ----\n",
    "    run_main(r\"D:\\BITS_SEM2\\DMML_Assignment\\Task1_DataIngestion\\DataIngestionImplementation.ipynb\")  # Data Ingestion\n",
    "    run_main(r\"D:\\BITS_SEM2\\DMML_Assignment\\Task2_RawDataStorage\\RawDataStorageImplementation.ipynb\")  # Raw Data Storage\n",
    "    run_main(r\"D:\\BITS_SEM2\\DMML_Assignment\\Task3_DataValidation\\DataValidationImplementation.ipynb\")  # Data Validation\n",
    "    run_main(r\"D:\\BITS_SEM2\\DMML_Assignment\\Task4_DataPreparation\\DataPreparation.ipynb\")  # Data Preparation\n",
    "    run_main(r\"D:\\BITS_SEM2\\DMML_Assignment\\Task5_DataTransformation_Storage\\DataTransformationStorageImplementation.ipynb\")  # Data Transformation + Storage\n",
    "    run_main(r\"D:\\BITS_SEM2\\DMML_Assignment\\Task6_FeatureStore\\FeatureStoreImplementation.ipynb\")  # Feature Store\n",
    "    run_main(r\"D:\\BITS_SEM2\\DMML_Assignment\\Task7_DataVersioning\\DataVersioningImplementation.ipynb\")  # Data Versioning\n",
    "    run_main(r\"D:\\BITS_SEM2\\DMML_Assignment\\Task8_ModelBuilding\\ModelBuildingImplementation.ipynb\")  # Model Building\n",
    "\n",
    "\n",
    "if __name__ == \"__main__\":\n",
    "    churn_pipeline()\n"
   ]
  }
 ],
 "metadata": {
  "kernelspec": {
   "display_name": "Python 3",
   "language": "python",
   "name": "python3"
  },
  "language_info": {
   "codemirror_mode": {
    "name": "ipython",
    "version": 3
   },
   "file_extension": ".py",
   "mimetype": "text/x-python",
   "name": "python",
   "nbconvert_exporter": "python",
   "pygments_lexer": "ipython3",
   "version": "3.11.9"
  }
 },
 "nbformat": 4,
 "nbformat_minor": 5
}
